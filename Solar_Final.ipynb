{
 "cells": [
  {
   "cell_type": "code",
   "execution_count": 12,
   "id": "605d5bd2",
   "metadata": {},
   "outputs": [],
   "source": [
    "import pandas as pd\n",
    "import numpy as np\n",
    "from tensorflow.keras.layers import GRU\n",
    "from tensorflow.keras.models import Sequential\n",
    "from tensorflow. keras.layers import Dense\n",
    "import matplotlib.pyplot as plt\n",
    "from datetime import datetime, timedelta\n",
    "from sklearn.metrics import mean_squared_error,r2_score,mean_absolute_error\n",
    "from math import sqrt\n",
    "import tensorflow as tf"
   ]
  },
  {
   "cell_type": "code",
   "execution_count": 67,
   "id": "df38b546",
   "metadata": {},
   "outputs": [
    {
     "name": "stderr",
     "output_type": "stream",
     "text": [
      "<ipython-input-67-99a64c8e2c93>:6: SettingWithCopyWarning: \n",
      "A value is trying to be set on a copy of a slice from a DataFrame\n",
      "\n",
      "See the caveats in the documentation: https://pandas.pydata.org/pandas-docs/stable/user_guide/indexing.html#returning-a-view-versus-a-copy\n",
      "  dataset['Newdate'][j] = Finaldate\n"
     ]
    }
   ],
   "source": [
    "dataset = pd.read_csv(r'E:\\4-1\\Math LOP\\Telengana\\telengana.csv')\n",
    "dates = dataset['Date']\n",
    "for j in range(0, len(dates)):\n",
    "    Begindate = datetime.strptime(dates[j], \"%d-%m-%Y\")\n",
    "    Finaldate = Begindate + timedelta(hours= int(dataset['Hour'][j]))\n",
    "    dataset['Newdate'][j] = Finaldate\n",
    "max_val = max(dataset['GHI'])"
   ]
  },
  {
   "cell_type": "code",
   "execution_count": 68,
   "id": "dedfac12",
   "metadata": {},
   "outputs": [],
   "source": [
    "dataset['GHI'] = dataset['GHI']/max(dataset['GHI'])\n",
    "dataset['DHI'] = dataset['DHI']/max(dataset['DHI'])\n",
    "dataset['Temperature'] = dataset['Temperature']/max(dataset['Temperature'])\n",
    "dataset['DNI'] = dataset['DNI']/max(dataset['DNI'])\n",
    "#dataset['Pressure'] = dataset['Pressure']/max(dataset['Pressure'])"
   ]
  },
  {
   "cell_type": "code",
   "execution_count": 60,
   "id": "b96f17fd",
   "metadata": {},
   "outputs": [],
   "source": [
    "def create_ts_data(dataset_in, lookback=1, predicted_col=3):\n",
    "    temp=dataset_in.copy()\n",
    "    temp[\"id\"]= np.arange(1, len(temp)+1)\n",
    "    temp = temp.iloc[:-lookback, :]\n",
    "    temp.set_index('id', inplace =True)\n",
    "    predicted_value=dataset_in.copy()\n",
    "    predicted_value = predicted_value.iloc[lookback:,predicted_col]\n",
    "    predicted_value.columns=[\"Predcited\"]\n",
    "    predicted_value= pd.DataFrame(predicted_value)\n",
    "    \n",
    "    predicted_value[\"id\"]= range(1, len(predicted_value)+1)\n",
    "    predicted_value.set_index('id', inplace =True)\n",
    "    final_df= pd.concat([temp, predicted_value], axis=1)\n",
    "    return final_df\n"
   ]
  },
  {
   "cell_type": "code",
   "execution_count": 69,
   "id": "20e51537",
   "metadata": {},
   "outputs": [],
   "source": [
    "#Hourly Predictions\n",
    "dataset = dataset.set_index('Newdate')\n",
    "\n",
    "#Daily Predictions\n",
    "dataset = dataset.iloc[:,:].resample('D').mean()\n",
    "\n",
    "# #Weekly Predictions\n",
    "#dataset = dataset.iloc[:,:].resample('W').mean()\n",
    "\n",
    "# #Monthly Predictions\n",
    "#dataset = dataset.iloc[:,:].resample('M').mean()\n",
    "\n",
    "dataset = dataset.dropna()\n"
   ]
  },
  {
   "cell_type": "code",
   "execution_count": 70,
   "id": "b71cfee6",
   "metadata": {},
   "outputs": [],
   "source": [
    "dataset = dataset[['Temperature', 'DHI', 'DNI', 'GHI']]\n",
    "# dataset = dataset.set_index('Newdate')\n",
    "final_df = create_ts_data(dataset, 1, 3)\n",
    "final_df.columns  = ['Temperature(t-1)', 'DHI(t-1)', 'DNI(t-1)', 'GHI(t-1)', 'GHI(t)',]\n",
    "final_df = final_df.to_numpy()\n",
    "data_length = len(final_df)"
   ]
  },
  {
   "cell_type": "code",
   "execution_count": 71,
   "id": "73ddcdc7",
   "metadata": {},
   "outputs": [
    {
     "name": "stdout",
     "output_type": "stream",
     "text": [
      "(3831, 1, 4) (3831,) (1095, 1, 4) (1095,) (548, 1, 4) (548,)\n"
     ]
    }
   ],
   "source": [
    "X_train = final_df[:int(0.7*data_length),:-1] # 70% In training\n",
    "X_val = final_df[int(0.7*data_length):int(0.8*data_length),:-1] # 10% in validation\n",
    "X_test = final_df[int(0.8*data_length):,:-1] # 20% in testing\n",
    "\n",
    "Y_train = final_df[:int(0.7*data_length),-1]\n",
    "Y_val = final_df[int(0.7*data_length):int(0.8*data_length),-1]\n",
    "Y_test = final_df[int(0.8*data_length):,-1]\n",
    "\n",
    "\n",
    "X_train = X_train.reshape((X_train.shape[0], 1, X_train.shape[1]))\n",
    "X_test = X_test.reshape((X_test.shape[0], 1, X_test.shape[1]))\n",
    "X_val = X_val.reshape((X_val.shape[0], 1, X_val.shape[1]))\n",
    "print(X_train.shape, Y_train.shape, X_test.shape, Y_test.shape,X_val.shape,Y_val.shape )"
   ]
  },
  {
   "cell_type": "code",
   "execution_count": 33,
   "id": "7f349fc1",
   "metadata": {},
   "outputs": [
    {
     "name": "stdout",
     "output_type": "stream",
     "text": [
      "Model: \"sequential_2\"\n",
      "_________________________________________________________________\n",
      "Layer (type)                 Output Shape              Param #   \n",
      "=================================================================\n",
      "gru_6 (GRU)                  (None, 1, 75)             18225     \n",
      "_________________________________________________________________\n",
      "gru_7 (GRU)                  (None, 1, 30)             9630      \n",
      "_________________________________________________________________\n",
      "gru_8 (GRU)                  (None, 30)                5580      \n",
      "_________________________________________________________________\n",
      "dense_2 (Dense)              (None, 1)                 31        \n",
      "=================================================================\n",
      "Total params: 33,466\n",
      "Trainable params: 33,466\n",
      "Non-trainable params: 0\n",
      "_________________________________________________________________\n"
     ]
    }
   ],
   "source": [
    "model_gru. summary()"
   ]
  },
  {
   "cell_type": "code",
   "execution_count": 72,
   "id": "a91bd607",
   "metadata": {
    "scrolled": true
   },
   "outputs": [
    {
     "name": "stdout",
     "output_type": "stream",
     "text": [
      "Epoch 1/75\n",
      "120/120 [==============================] - 6s 15ms/step - loss: 0.0982 - val_loss: 0.0544\n",
      "Epoch 2/75\n",
      "120/120 [==============================] - 1s 8ms/step - loss: 0.0483 - val_loss: 0.0506\n",
      "Epoch 3/75\n",
      "120/120 [==============================] - 1s 6ms/step - loss: 0.0463 - val_loss: 0.0492\n",
      "Epoch 4/75\n",
      "120/120 [==============================] - 1s 7ms/step - loss: 0.0451 - val_loss: 0.0508\n",
      "Epoch 5/75\n",
      "120/120 [==============================] - 1s 7ms/step - loss: 0.0458 - val_loss: 0.0492\n",
      "Epoch 6/75\n",
      "120/120 [==============================] - 1s 6ms/step - loss: 0.0456 - val_loss: 0.0526\n",
      "Epoch 7/75\n",
      "120/120 [==============================] - 1s 6ms/step - loss: 0.0455 - val_loss: 0.0493\n",
      "Epoch 8/75\n",
      "120/120 [==============================] - 1s 6ms/step - loss: 0.0446 - val_loss: 0.0498\n",
      "Epoch 9/75\n",
      "120/120 [==============================] - 1s 6ms/step - loss: 0.0455 - val_loss: 0.0492\n",
      "Epoch 10/75\n",
      "120/120 [==============================] - 1s 5ms/step - loss: 0.0458 - val_loss: 0.0517\n",
      "Epoch 11/75\n",
      "120/120 [==============================] - 1s 6ms/step - loss: 0.0449 - val_loss: 0.0503\n",
      "Epoch 12/75\n",
      "120/120 [==============================] - 1s 6ms/step - loss: 0.0456 - val_loss: 0.0494\n",
      "Epoch 13/75\n",
      "120/120 [==============================] - 1s 6ms/step - loss: 0.0449 - val_loss: 0.0498\n",
      "Epoch 14/75\n",
      "120/120 [==============================] - 1s 6ms/step - loss: 0.0449 - val_loss: 0.0518\n",
      "Epoch 15/75\n",
      "120/120 [==============================] - 1s 5ms/step - loss: 0.0444 - val_loss: 0.0494\n",
      "Epoch 16/75\n",
      "120/120 [==============================] - 1s 6ms/step - loss: 0.0453 - val_loss: 0.0510\n",
      "Epoch 17/75\n",
      "120/120 [==============================] - 1s 6ms/step - loss: 0.0453 - val_loss: 0.0498\n",
      "Epoch 18/75\n",
      "120/120 [==============================] - 1s 5ms/step - loss: 0.0451 - val_loss: 0.0496\n",
      "Epoch 19/75\n",
      "120/120 [==============================] - 1s 6ms/step - loss: 0.0447 - val_loss: 0.0493\n",
      "Epoch 20/75\n",
      "120/120 [==============================] - 1s 5ms/step - loss: 0.0442 - val_loss: 0.0494\n",
      "Epoch 21/75\n",
      "120/120 [==============================] - 1s 5ms/step - loss: 0.0452 - val_loss: 0.0498\n",
      "Epoch 22/75\n",
      "120/120 [==============================] - 1s 5ms/step - loss: 0.0448 - val_loss: 0.0493\n",
      "Epoch 23/75\n",
      "120/120 [==============================] - 1s 6ms/step - loss: 0.0456 - val_loss: 0.0496\n",
      "Epoch 24/75\n",
      "120/120 [==============================] - 1s 5ms/step - loss: 0.0444 - val_loss: 0.0494\n",
      "Epoch 25/75\n",
      "120/120 [==============================] - 1s 6ms/step - loss: 0.0446 - val_loss: 0.0497\n",
      "Epoch 26/75\n",
      "120/120 [==============================] - 1s 5ms/step - loss: 0.0446 - val_loss: 0.0494\n",
      "Epoch 27/75\n",
      "120/120 [==============================] - 1s 7ms/step - loss: 0.0457 - val_loss: 0.0499\n",
      "Epoch 28/75\n",
      "120/120 [==============================] - 1s 8ms/step - loss: 0.0446 - val_loss: 0.0493\n",
      "Epoch 29/75\n",
      "120/120 [==============================] - 1s 6ms/step - loss: 0.0440 - val_loss: 0.0494\n",
      "Epoch 30/75\n",
      "120/120 [==============================] - 1s 5ms/step - loss: 0.0443 - val_loss: 0.0494\n",
      "Epoch 31/75\n",
      "120/120 [==============================] - 1s 6ms/step - loss: 0.0445 - val_loss: 0.0495\n",
      "Epoch 32/75\n",
      "120/120 [==============================] - 1s 6ms/step - loss: 0.0446 - val_loss: 0.0499\n",
      "Epoch 33/75\n",
      "120/120 [==============================] - 1s 5ms/step - loss: 0.0443 - val_loss: 0.0514\n",
      "Epoch 34/75\n",
      "120/120 [==============================] - 1s 6ms/step - loss: 0.0442 - val_loss: 0.0494\n",
      "Epoch 35/75\n",
      "120/120 [==============================] - 1s 6ms/step - loss: 0.0454 - val_loss: 0.0492\n",
      "Epoch 36/75\n",
      "120/120 [==============================] - 1s 6ms/step - loss: 0.0447 - val_loss: 0.0551\n",
      "Epoch 37/75\n",
      "120/120 [==============================] - 1s 6ms/step - loss: 0.0446 - val_loss: 0.0499\n",
      "Epoch 38/75\n",
      "120/120 [==============================] - 1s 5ms/step - loss: 0.0443 - val_loss: 0.0504\n",
      "Epoch 39/75\n",
      "120/120 [==============================] - 1s 6ms/step - loss: 0.0449 - val_loss: 0.0502\n",
      "Epoch 40/75\n",
      "120/120 [==============================] - 1s 6ms/step - loss: 0.0443 - val_loss: 0.0494\n",
      "Epoch 41/75\n",
      "120/120 [==============================] - 1s 6ms/step - loss: 0.0448 - val_loss: 0.0511\n",
      "Epoch 42/75\n",
      "120/120 [==============================] - 1s 7ms/step - loss: 0.0449 - val_loss: 0.0502\n",
      "Epoch 43/75\n",
      "120/120 [==============================] - 1s 6ms/step - loss: 0.0441 - val_loss: 0.0492\n",
      "Epoch 44/75\n",
      "120/120 [==============================] - 1s 6ms/step - loss: 0.0447 - val_loss: 0.0506\n",
      "Epoch 45/75\n",
      "120/120 [==============================] - 1s 5ms/step - loss: 0.0443 - val_loss: 0.0496\n",
      "Epoch 46/75\n",
      "120/120 [==============================] - 1s 6ms/step - loss: 0.0445 - val_loss: 0.0493\n",
      "Epoch 47/75\n",
      "120/120 [==============================] - 1s 6ms/step - loss: 0.0439 - val_loss: 0.0501\n",
      "Epoch 48/75\n",
      "120/120 [==============================] - 1s 7ms/step - loss: 0.0444 - val_loss: 0.0494\n",
      "Epoch 49/75\n",
      "120/120 [==============================] - 1s 7ms/step - loss: 0.0439 - val_loss: 0.0493\n",
      "Epoch 50/75\n",
      "120/120 [==============================] - 1s 8ms/step - loss: 0.0453 - val_loss: 0.0492\n",
      "Epoch 51/75\n",
      "120/120 [==============================] - 1s 7ms/step - loss: 0.0442 - val_loss: 0.0492\n",
      "Epoch 52/75\n",
      "120/120 [==============================] - 1s 6ms/step - loss: 0.0440 - val_loss: 0.0509\n",
      "Epoch 53/75\n",
      "120/120 [==============================] - 1s 6ms/step - loss: 0.0443 - val_loss: 0.0493\n",
      "Epoch 54/75\n",
      "120/120 [==============================] - 1s 7ms/step - loss: 0.0454 - val_loss: 0.0515\n",
      "Epoch 55/75\n",
      "120/120 [==============================] - 1s 7ms/step - loss: 0.0444 - val_loss: 0.0520\n",
      "Epoch 56/75\n",
      "120/120 [==============================] - 1s 7ms/step - loss: 0.0447 - val_loss: 0.0492\n",
      "Epoch 57/75\n",
      "120/120 [==============================] - 1s 6ms/step - loss: 0.0441 - val_loss: 0.0495\n",
      "Epoch 58/75\n",
      "120/120 [==============================] - 1s 6ms/step - loss: 0.0443 - val_loss: 0.0496\n",
      "Epoch 59/75\n",
      "120/120 [==============================] - 1s 6ms/step - loss: 0.0448 - val_loss: 0.0493\n",
      "Epoch 60/75\n",
      "120/120 [==============================] - 1s 6ms/step - loss: 0.0442 - val_loss: 0.0521\n",
      "Epoch 61/75\n",
      "120/120 [==============================] - 1s 6ms/step - loss: 0.0439 - val_loss: 0.0500\n",
      "Epoch 62/75\n",
      "120/120 [==============================] - 1s 9ms/step - loss: 0.0440 - val_loss: 0.0500\n",
      "Epoch 63/75\n",
      "120/120 [==============================] - 1s 9ms/step - loss: 0.0439 - val_loss: 0.0500\n",
      "Epoch 64/75\n",
      "120/120 [==============================] - 1s 6ms/step - loss: 0.0450 - val_loss: 0.0531\n",
      "Epoch 65/75\n",
      "120/120 [==============================] - 1s 7ms/step - loss: 0.0446 - val_loss: 0.0499\n",
      "Epoch 66/75\n",
      "120/120 [==============================] - 1s 7ms/step - loss: 0.0444 - val_loss: 0.0494\n",
      "Epoch 67/75\n",
      "120/120 [==============================] - 1s 7ms/step - loss: 0.0447 - val_loss: 0.0490\n",
      "Epoch 68/75\n",
      "120/120 [==============================] - 1s 8ms/step - loss: 0.0449 - val_loss: 0.0520\n",
      "Epoch 69/75\n",
      "120/120 [==============================] - 1s 8ms/step - loss: 0.0441 - val_loss: 0.0506\n",
      "Epoch 70/75\n",
      "120/120 [==============================] - 1s 7ms/step - loss: 0.0443 - val_loss: 0.0491\n",
      "Epoch 71/75\n",
      "120/120 [==============================] - 1s 6ms/step - loss: 0.0444 - val_loss: 0.0527\n",
      "Epoch 72/75\n",
      "120/120 [==============================] - 1s 6ms/step - loss: 0.0444 - val_loss: 0.0493\n",
      "Epoch 73/75\n",
      "120/120 [==============================] - 1s 7ms/step - loss: 0.0445 - val_loss: 0.0494\n",
      "Epoch 74/75\n",
      "120/120 [==============================] - 1s 6ms/step - loss: 0.0446 - val_loss: 0.0491\n",
      "Epoch 75/75\n",
      "120/120 [==============================] - 1s 6ms/step - loss: 0.0441 - val_loss: 0.0495\n",
      "35/35 [==============================] - 0s 2ms/step - loss: 0.0468\n"
     ]
    }
   ],
   "source": [
    "# opt = Adam(lr = 0.0001)\n",
    "model_gru = Sequential()\n",
    "model_gru.add(GRU(75, return_sequences=True,input_shape=(X_train.shape[1], X_train.shape[2])))\n",
    "model_gru.add(GRU(units=30, return_sequences=True))\n",
    "model_gru.add(GRU(units=30))\n",
    "model_gru.add(Dense(units=1))\n",
    "\n",
    "model_gru.compile(loss='mae', optimizer='adam')\n",
    "\n",
    "#%%\n",
    "history = model_gru.fit(X_train,Y_train, epochs = 75, verbose = 1, validation_data = (X_val, Y_val))\n",
    "\n",
    "#%%\n",
    "results= model_gru.evaluate(X_test, Y_test)\n",
    "pred = model_gru.predict(X_test)\n"
   ]
  },
  {
   "cell_type": "code",
   "execution_count": 73,
   "id": "44ab3045",
   "metadata": {},
   "outputs": [],
   "source": [
    "Y_test = Y_test * max_val\n",
    "pred = pred * max_val"
   ]
  },
  {
   "cell_type": "code",
   "execution_count": 74,
   "id": "8ec56d40",
   "metadata": {
    "scrolled": false
   },
   "outputs": [
    {
     "name": "stdout",
     "output_type": "stream",
     "text": [
      "MSE ------------> 5970.132057408798\n",
      "R2 -----------> 0.4277173142560933\n",
      "RMSE ----------> 77.26662964960228\n",
      "MAE ----------> 47.424967592996246\n"
     ]
    },
    {
     "data": {
      "image/png": "[encoded data removed]",
      "text/plain": [
       "<Figure size 432x288 with 1 Axes>"
      ]
     },
     "metadata": {
      "needs_background": "light"
     },
     "output_type": "display_data"
    },
    {
     "data": {
      "image/png": "[encoded data removed]",
      "text/plain": [
       "<Figure size 432x288 with 1 Axes>"
      ]
     },
     "metadata": {
      "needs_background": "light"
     },
     "output_type": "display_data"
    }
   ],
   "source": [
    "#plt.rcParams['figure.figsize'] = (15,5)\n",
    "#Correlation between the Predicted and Test values\n",
    "MSE = mean_squared_error(Y_test, pred)\n",
    "R2 = r2_score(Y_test, pred)  \n",
    "RMSE = sqrt(mean_squared_error(Y_test, pred))\n",
    "MAE = mean_absolute_error(Y_test, pred)\n",
    "\n",
    "print('MSE ------------>',MSE)\n",
    "print('R2 ----------->', R2)\n",
    "print('RMSE ---------->',RMSE)\n",
    "print('MAE ---------->', MAE)\n",
    "\n",
    "plt.plot(Y_test, label = 'Actual')\n",
    "plt.plot(pred, label = 'Predicted')\n",
    "plt.legend()\n",
    "plt.title(label=\"Telengana_Daily\")\n",
    "plt.show()\n",
    "plt.title(label=\"Telengana_Daily_First_100\")\n",
    "#%%\n",
    "plt.plot(Y_test[:100], label = 'Actual')\n",
    "plt.plot(pred[:100], label = 'Predicted')\n",
    "plt.legend()\n",
    "plt.show()"
   ]
  },
  {
   "cell_type": "code",
   "execution_count": null,
   "id": "946dd7b6",
   "metadata": {},
   "outputs": [],
   "source": []
  },
  {
   "cell_type": "code",
   "execution_count": null,
   "id": "9a9d76eb",
   "metadata": {},
   "outputs": [],
   "source": []
  }
 ],
 "metadata": {
  "kernelspec": {
   "display_name": "Python 3",
   "language": "python",
   "name": "python3"
  },
  "language_info": {
   "codemirror_mode": {
    "name": "ipython",
    "version": 3
   },
   "file_extension": ".py",
   "mimetype": "text/x-python",
   "name": "python",
   "nbconvert_exporter": "python",
   "pygments_lexer": "ipython3",
   "version": "3.8.8"
  }
 },
 "nbformat": 4,
 "nbformat_minor": 5
}
